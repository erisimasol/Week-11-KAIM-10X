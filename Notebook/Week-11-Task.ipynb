{
 "cells": [
  {
   "cell_type": "markdown",
   "metadata": {},
   "source": [
    "# Import Libraries "
   ]
  },
  {
   "cell_type": "code",
   "execution_count": 1,
   "metadata": {},
   "outputs": [],
   "source": [
    "import pandas as pd\n",
    "import numpy as np\n",
    "import seaborn as sns\n",
    "import matplotlib.pyplot as plt\n",
    "from sklearn.model_selection import train_test_split\n",
    "from sklearn.ensemble import RandomForestRegressor\n",
    "from sklearn.metrics import mean_squared_error"
   ]
  },
  {
   "cell_type": "markdown",
   "metadata": {},
   "source": [
    "## Install the yfinance library "
   ]
  },
  {
   "cell_type": "code",
   "execution_count": 2,
   "metadata": {},
   "outputs": [
    {
     "name": "stdout",
     "output_type": "stream",
     "text": [
      "Requirement already satisfied: yfinance in c:\\users\\pc\\anaconda3\\lib\\site-packages (0.2.54)\n",
      "Requirement already satisfied: pandas>=1.3.0 in c:\\users\\pc\\anaconda3\\lib\\site-packages (from yfinance) (2.2.2)\n",
      "Requirement already satisfied: numpy>=1.16.5 in c:\\users\\pc\\anaconda3\\lib\\site-packages (from yfinance) (1.26.4)\n",
      "Requirement already satisfied: requests>=2.31 in c:\\users\\pc\\anaconda3\\lib\\site-packages (from yfinance) (2.32.3)\n",
      "Requirement already satisfied: multitasking>=0.0.7 in c:\\users\\pc\\anaconda3\\lib\\site-packages (from yfinance) (0.0.11)\n",
      "Requirement already satisfied: platformdirs>=2.0.0 in c:\\users\\pc\\anaconda3\\lib\\site-packages (from yfinance) (3.10.0)\n",
      "Requirement already satisfied: pytz>=2022.5 in c:\\users\\pc\\anaconda3\\lib\\site-packages (from yfinance) (2024.1)\n",
      "Requirement already satisfied: frozendict>=2.3.4 in c:\\users\\pc\\anaconda3\\lib\\site-packages (from yfinance) (2.4.2)\n",
      "Requirement already satisfied: peewee>=3.16.2 in c:\\users\\pc\\anaconda3\\lib\\site-packages (from yfinance) (3.17.9)\n",
      "Requirement already satisfied: beautifulsoup4>=4.11.1 in c:\\users\\pc\\anaconda3\\lib\\site-packages (from yfinance) (4.12.3)\n",
      "Requirement already satisfied: soupsieve>1.2 in c:\\users\\pc\\anaconda3\\lib\\site-packages (from beautifulsoup4>=4.11.1->yfinance) (2.5)\n",
      "Requirement already satisfied: python-dateutil>=2.8.2 in c:\\users\\pc\\anaconda3\\lib\\site-packages (from pandas>=1.3.0->yfinance) (2.9.0.post0)\n",
      "Requirement already satisfied: tzdata>=2022.7 in c:\\users\\pc\\anaconda3\\lib\\site-packages (from pandas>=1.3.0->yfinance) (2023.3)\n",
      "Requirement already satisfied: charset-normalizer<4,>=2 in c:\\users\\pc\\anaconda3\\lib\\site-packages (from requests>=2.31->yfinance) (3.3.2)\n",
      "Requirement already satisfied: idna<4,>=2.5 in c:\\users\\pc\\anaconda3\\lib\\site-packages (from requests>=2.31->yfinance) (3.7)\n",
      "Requirement already satisfied: urllib3<3,>=1.21.1 in c:\\users\\pc\\anaconda3\\lib\\site-packages (from requests>=2.31->yfinance) (2.2.3)\n",
      "Requirement already satisfied: certifi>=2017.4.17 in c:\\users\\pc\\anaconda3\\lib\\site-packages (from requests>=2.31->yfinance) (2024.12.14)\n",
      "Requirement already satisfied: six>=1.5 in c:\\users\\pc\\anaconda3\\lib\\site-packages (from python-dateutil>=2.8.2->pandas>=1.3.0->yfinance) (1.16.0)\n",
      "Note: you may need to restart the kernel to use updated packages.\n"
     ]
    }
   ],
   "source": [
    "pip install yfinance"
   ]
  },
  {
   "cell_type": "code",
   "execution_count": 3,
   "metadata": {},
   "outputs": [],
   "source": [
    "import yfinance as yf"
   ]
  },
  {
   "cell_type": "markdown",
   "metadata": {},
   "source": [
    "# Define the ticker symbol for Tesla"
   ]
  },
  {
   "cell_type": "code",
   "execution_count": null,
   "metadata": {},
   "outputs": [],
   "source": [
    "\n",
    "ticker_symbol = 'TSLA'"
   ]
  },
  {
   "cell_type": "markdown",
   "metadata": {},
   "source": [
    "# Fetch the data"
   ]
  },
  {
   "cell_type": "code",
   "execution_count": 5,
   "metadata": {},
   "outputs": [],
   "source": [
    "\n",
    "tesla_data = yf.Ticker(ticker_symbol)"
   ]
  },
  {
   "cell_type": "code",
   "execution_count": 6,
   "metadata": {},
   "outputs": [],
   "source": [
    "\n",
    "historical_data = tesla_data.history(period='10y')"
   ]
  },
  {
   "cell_type": "markdown",
   "metadata": {},
   "source": [
    "# Display the historical data"
   ]
  },
  {
   "cell_type": "code",
   "execution_count": 21,
   "metadata": {},
   "outputs": [
    {
     "name": "stdout",
     "output_type": "stream",
     "text": [
      "Historical Stock Prices for TSLA:\n",
      "                                 Open        High         Low       Close  \\\n",
      "Date                                                                        \n",
      "2015-02-27 00:00:00-05:00   13.793333   13.903333   13.520000   13.556000   \n",
      "2015-03-02 00:00:00-05:00   13.513333   13.556000   13.055333   13.155333   \n",
      "2015-03-03 00:00:00-05:00   13.120667   13.349333   13.021333   13.304000   \n",
      "2015-03-04 00:00:00-05:00   13.283333   13.501333   13.147333   13.496000   \n",
      "2015-03-05 00:00:00-05:00   13.523333   13.746000   13.343333   13.375333   \n",
      "...                               ...         ...         ...         ...   \n",
      "2025-02-20 00:00:00-05:00  361.510010  362.299988  348.000000  354.399994   \n",
      "2025-02-21 00:00:00-05:00  353.440002  354.980011  334.420013  337.799988   \n",
      "2025-02-24 00:00:00-05:00  338.140015  342.399994  324.700012  330.529999   \n",
      "2025-02-25 00:00:00-05:00  327.019989  328.890015  297.250000  302.799988   \n",
      "2025-02-26 00:00:00-05:00  303.709991  309.000000  288.040009  290.799988   \n",
      "\n",
      "                              Volume  Dividends  Stock Splits  \n",
      "Date                                                           \n",
      "2015-02-27 00:00:00-05:00   58231500        0.0           0.0  \n",
      "2015-03-02 00:00:00-05:00  118831500        0.0           0.0  \n",
      "2015-03-03 00:00:00-05:00   66484500        0.0           0.0  \n",
      "2015-03-04 00:00:00-05:00   63330000        0.0           0.0  \n",
      "2015-03-05 00:00:00-05:00   73155000        0.0           0.0  \n",
      "...                              ...        ...           ...  \n",
      "2025-02-20 00:00:00-05:00   45965400        0.0           0.0  \n",
      "2025-02-21 00:00:00-05:00   74058600        0.0           0.0  \n",
      "2025-02-24 00:00:00-05:00   76052300        0.0           0.0  \n",
      "2025-02-25 00:00:00-05:00  134228800        0.0           0.0  \n",
      "2025-02-26 00:00:00-05:00   99373300        0.0           0.0  \n",
      "\n",
      "[2515 rows x 7 columns]\n"
     ]
    }
   ],
   "source": [
    "print(\"Historical Stock Prices for TSLA:\")\n",
    "print(historical_data)"
   ]
  },
  {
   "cell_type": "markdown",
   "metadata": {},
   "source": []
  },
  {
   "cell_type": "code",
   "execution_count": 28,
   "metadata": {},
   "outputs": [],
   "source": [
    "TSLA_info = tesla_data.info\n"
   ]
  },
  {
   "cell_type": "code",
   "execution_count": 29,
   "metadata": {},
   "outputs": [
    {
     "name": "stdout",
     "output_type": "stream",
     "text": [
      "{'address1': '1 Tesla Road', 'city': 'Austin', 'state': 'TX', 'zip': '78725', 'country': 'United States', 'phone': '512 516 8177', 'website': 'https://www.tesla.com', 'industry': 'Auto Manufacturers', 'industryKey': 'auto-manufacturers', 'industryDisp': 'Auto Manufacturers', 'sector': 'Consumer Cyclical', 'sectorKey': 'consumer-cyclical', 'sectorDisp': 'Consumer Cyclical', 'longBusinessSummary': 'Tesla, Inc. designs, develops, manufactures, leases, and sells electric vehicles, and energy generation and storage systems in the United States, China, and internationally. The company operates in two segments, Automotive; and Energy Generation and Storage. The Automotive segment offers electric vehicles, as well as sells automotive regulatory credits; and non-warranty after-sales vehicle, used vehicles, body shop and parts, supercharging, retail merchandise, and vehicle insurance services. This segment also provides sedans and sport utility vehicles through direct and used vehicle sales, a network of Tesla Superchargers, and in-app upgrades; purchase financing and leasing services; services for electric vehicles through its company-owned service locations and Tesla mobile service technicians; and vehicle limited warranties and extended service plans. The Energy Generation and Storage segment engages in the design, manufacture, installation, sale, and leasing of solar energy generation and energy storage products, and related services to residential, commercial, and industrial customers and utilities through its website, stores, and galleries, as well as through a network of channel partners. This segment also provides services and repairs to its energy product customers, including under warranty; and various financing options to its residential customers. The company was formerly known as Tesla Motors, Inc. and changed its name to Tesla, Inc. in February 2017. Tesla, Inc. was incorporated in 2003 and is headquartered in Austin, Texas.', 'fullTimeEmployees': 125665, 'companyOfficers': [{'maxAge': 1, 'name': 'Mr. Elon R. Musk', 'age': 53, 'title': 'Co-Founder, Technoking of Tesla, CEO & Director', 'yearBorn': 1971, 'fiscalYear': 2023, 'exercisedValue': 0, 'unexercisedValue': 0}, {'maxAge': 1, 'name': 'Mr. Vaibhav  Taneja', 'age': 46, 'title': 'Chief Financial Officer', 'yearBorn': 1978, 'fiscalYear': 2023, 'totalPay': 278000, 'exercisedValue': 8517957, 'unexercisedValue': 202075632}, {'maxAge': 1, 'name': 'Mr. Xiaotong  Zhu', 'age': 44, 'title': 'Senior Vice President of Automotive', 'yearBorn': 1980, 'fiscalYear': 2023, 'totalPay': 926877, 'exercisedValue': 0, 'unexercisedValue': 344144320}, {'maxAge': 1, 'name': 'Travis  Axelrod', 'title': 'Head of Investor Relations', 'fiscalYear': 2023, 'exercisedValue': 0, 'unexercisedValue': 0}, {'maxAge': 1, 'name': 'Brian  Scelfo', 'title': 'Senior Director of Corporate Development', 'fiscalYear': 2023, 'exercisedValue': 0, 'unexercisedValue': 0}, {'maxAge': 1, 'name': 'Mr. Franz  von Holzhausen', 'title': 'Chief Designer', 'fiscalYear': 2023, 'exercisedValue': 0, 'unexercisedValue': 0}, {'maxAge': 1, 'name': 'Mr. John  Walker', 'age': 61, 'title': 'Vice President of Sales - North America', 'yearBorn': 1963, 'fiscalYear': 2023, 'totalPay': 121550, 'exercisedValue': 0, 'unexercisedValue': 0}, {'maxAge': 1, 'name': 'Mr. Peter  Bannon', 'title': 'Chip Architect', 'fiscalYear': 2023, 'exercisedValue': 0, 'unexercisedValue': 0}, {'maxAge': 1, 'name': 'Mr. Turner  Caldwell', 'title': 'Engineering Manager', 'fiscalYear': 2023, 'exercisedValue': 0, 'unexercisedValue': 0}, {'maxAge': 1, 'name': 'Mr. Rodney D. Westmoreland Jr.', 'title': 'Director of Construction Management', 'fiscalYear': 2023, 'exercisedValue': 0, 'unexercisedValue': 0}], 'auditRisk': 5, 'boardRisk': 9, 'compensationRisk': 10, 'shareHolderRightsRisk': 9, 'overallRisk': 10, 'governanceEpochDate': 1738368000, 'compensationAsOfEpochDate': 1703980800, 'executiveTeam': [], 'maxAge': 86400, 'priceHint': 2, 'previousClose': 302.8, 'open': 303.715, 'dayLow': 288.04, 'dayHigh': 309.0, 'regularMarketPreviousClose': 302.8, 'regularMarketOpen': 303.715, 'regularMarketDayLow': 288.04, 'regularMarketDayHigh': 309.0, 'payoutRatio': 0.0, 'beta': 2.336, 'trailingPE': 142.54901, 'forwardPE': 89.75308, 'volume': 97759546, 'regularMarketVolume': 97759546, 'averageVolume': 81303881, 'averageVolume10days': 83067610, 'averageDailyVolume10Day': 83067610, 'bid': 290.43, 'ask': 292.0, 'bidSize': 4, 'askSize': 3, 'marketCap': 935363936256, 'fiftyTwoWeekLow': 138.8, 'fiftyTwoWeekHigh': 488.54, 'priceToSalesTrailing12Months': 9.574818, 'fiftyDayAverage': 397.5472, 'twoHundredDayAverage': 277.0113, 'trailingAnnualDividendRate': 0.0, 'trailingAnnualDividendYield': 0.0, 'currency': 'USD', 'tradeable': False, 'enterpriseValue': 913190158336, 'profitMargins': 0.07259, 'floatShares': 2799688594, 'sharesOutstanding': 3216519936, 'sharesShort': 61498198, 'sharesShortPriorMonth': 63254084, 'sharesShortPreviousMonthDate': 1736899200, 'dateShortInterest': 1739491200, 'sharesPercentSharesOut': 0.0191, 'heldPercentInsiders': 0.12965, 'heldPercentInstitutions': 0.49245, 'shortRatio': 0.81, 'shortPercentOfFloat': 0.0219, 'impliedSharesOutstanding': 3216519936, 'bookValue': 22.672, 'priceToBook': 12.826393, 'lastFiscalYearEnd': 1735603200, 'nextFiscalYearEnd': 1767139200, 'mostRecentQuarter': 1735603200, 'earningsQuarterlyGrowth': -0.708, 'netIncomeToCommon': 7129999872, 'trailingEps': 2.04, 'forwardEps': 3.24, 'lastSplitFactor': '3:1', 'lastSplitDate': 1661385600, 'enterpriseToRevenue': 9.348, 'enterpriseToEbitda': 70.1, '52WeekChange': 0.49990094, 'SandP52WeekChange': 0.16870964, 'quoteType': 'EQUITY', 'currentPrice': 290.8, 'targetHighPrice': 550.0, 'targetLowPrice': 135.0, 'targetMeanPrice': 345.5588, 'targetMedianPrice': 384.835, 'recommendationMean': 2.74468, 'recommendationKey': 'hold', 'numberOfAnalystOpinions': 42, 'totalCash': 36563001344, 'totalCashPerShare': 11.367, 'ebitda': 13027000320, 'totalDebt': 13623000064, 'quickRatio': 1.427, 'currentRatio': 2.025, 'totalRevenue': 97690001408, 'debtToEquity': 18.489, 'revenuePerShare': 30.557, 'returnOnAssets': 0.04186, 'returnOnEquity': 0.1042, 'grossProfits': 17450000384, 'freeCashflow': -826875008, 'operatingCashflow': 14922999808, 'earningsGrowth': -0.709, 'revenueGrowth': 0.021, 'grossMargins': 0.17863001, 'ebitdaMargins': 0.13335, 'operatingMargins': 0.06158, 'financialCurrency': 'USD', 'symbol': 'TSLA', 'language': 'en-US', 'region': 'US', 'typeDisp': 'Equity', 'quoteSourceName': 'Nasdaq Real Time Price', 'triggerable': True, 'customPriceAlertConfidence': 'HIGH', 'regularMarketChangePercent': -3.963012, 'regularMarketPrice': 290.8, 'twoHundredDayAverageChange': 13.788696, 'twoHundredDayAverageChangePercent': 0.04977666, 'sourceInterval': 15, 'exchangeDataDelayedBy': 0, 'averageAnalystRating': '2.7 - Hold', 'cryptoTradeable': False, 'shortName': 'Tesla, Inc.', 'longName': 'Tesla, Inc.', 'corporateActions': [], 'preMarketTime': 1740656580, 'regularMarketTime': 1740603601, 'exchange': 'NMS', 'messageBoardId': 'finmb_27444752', 'exchangeTimezoneName': 'America/New_York', 'exchangeTimezoneShortName': 'EST', 'gmtOffSetMilliseconds': -18000000, 'market': 'us_market', 'esgPopulated': False, 'marketState': 'PRE', 'regularMarketDayRange': '288.04 - 309.0', 'fullExchangeName': 'NasdaqGS', 'averageDailyVolume3Month': 81303881, 'fiftyTwoWeekLowChange': 151.99998, 'fiftyTwoWeekLowChangePercent': 1.0951008, 'fiftyTwoWeekRange': '138.8 - 488.54', 'fiftyTwoWeekHighChange': -197.74002, 'fiftyTwoWeekHighChangePercent': -0.40475705, 'fiftyTwoWeekChangePercent': 49.990093, 'earningsTimestamp': 1738184940, 'earningsTimestampStart': 1745438400, 'earningsTimestampEnd': 1746302400, 'earningsCallTimestampStart': 1738189800, 'earningsCallTimestampEnd': 1738189800, 'isEarningsDateEstimate': True, 'epsTrailingTwelveMonths': 2.04, 'epsForward': 3.24, 'epsCurrentYear': 2.84748, 'priceEpsCurrentYear': 102.12538, 'fiftyDayAverageChange': -106.74722, 'fiftyDayAverageChangePercent': -0.26851457, 'hasPrePostMarketData': True, 'firstTradeDateMilliseconds': 1277818200000, 'preMarketChange': 4.7400208, 'preMarketChangePercent': 1.6299934, 'preMarketPrice': 295.54, 'regularMarketChange': -12.0, 'displayName': 'Tesla', 'trailingPegRatio': 4.0935}\n"
     ]
    }
   ],
   "source": [
    "\n",
    "print(TSLA_info)"
   ]
  },
  {
   "cell_type": "code",
   "execution_count": 34,
   "metadata": {},
   "outputs": [
    {
     "data": {
      "text/html": [
       "<div>\n",
       "<style scoped>\n",
       "    .dataframe tbody tr th:only-of-type {\n",
       "        vertical-align: middle;\n",
       "    }\n",
       "\n",
       "    .dataframe tbody tr th {\n",
       "        vertical-align: top;\n",
       "    }\n",
       "\n",
       "    .dataframe thead th {\n",
       "        text-align: right;\n",
       "    }\n",
       "</style>\n",
       "<table border=\"1\" class=\"dataframe\">\n",
       "  <thead>\n",
       "    <tr style=\"text-align: right;\">\n",
       "      <th></th>\n",
       "      <th>Open</th>\n",
       "      <th>High</th>\n",
       "      <th>Low</th>\n",
       "      <th>Close</th>\n",
       "      <th>Volume</th>\n",
       "      <th>Dividends</th>\n",
       "      <th>Stock Splits</th>\n",
       "    </tr>\n",
       "    <tr>\n",
       "      <th>Date</th>\n",
       "      <th></th>\n",
       "      <th></th>\n",
       "      <th></th>\n",
       "      <th></th>\n",
       "      <th></th>\n",
       "      <th></th>\n",
       "      <th></th>\n",
       "    </tr>\n",
       "  </thead>\n",
       "  <tbody>\n",
       "    <tr>\n",
       "      <th>2015-02-27 00:00:00-05:00</th>\n",
       "      <td>13.793333</td>\n",
       "      <td>13.903333</td>\n",
       "      <td>13.520000</td>\n",
       "      <td>13.556000</td>\n",
       "      <td>58231500</td>\n",
       "      <td>0.0</td>\n",
       "      <td>0.0</td>\n",
       "    </tr>\n",
       "    <tr>\n",
       "      <th>2015-03-02 00:00:00-05:00</th>\n",
       "      <td>13.513333</td>\n",
       "      <td>13.556000</td>\n",
       "      <td>13.055333</td>\n",
       "      <td>13.155333</td>\n",
       "      <td>118831500</td>\n",
       "      <td>0.0</td>\n",
       "      <td>0.0</td>\n",
       "    </tr>\n",
       "    <tr>\n",
       "      <th>2015-03-03 00:00:00-05:00</th>\n",
       "      <td>13.120667</td>\n",
       "      <td>13.349333</td>\n",
       "      <td>13.021333</td>\n",
       "      <td>13.304000</td>\n",
       "      <td>66484500</td>\n",
       "      <td>0.0</td>\n",
       "      <td>0.0</td>\n",
       "    </tr>\n",
       "    <tr>\n",
       "      <th>2015-03-04 00:00:00-05:00</th>\n",
       "      <td>13.283333</td>\n",
       "      <td>13.501333</td>\n",
       "      <td>13.147333</td>\n",
       "      <td>13.496000</td>\n",
       "      <td>63330000</td>\n",
       "      <td>0.0</td>\n",
       "      <td>0.0</td>\n",
       "    </tr>\n",
       "    <tr>\n",
       "      <th>2015-03-05 00:00:00-05:00</th>\n",
       "      <td>13.523333</td>\n",
       "      <td>13.746000</td>\n",
       "      <td>13.343333</td>\n",
       "      <td>13.375333</td>\n",
       "      <td>73155000</td>\n",
       "      <td>0.0</td>\n",
       "      <td>0.0</td>\n",
       "    </tr>\n",
       "  </tbody>\n",
       "</table>\n",
       "</div>"
      ],
      "text/plain": [
       "                                Open       High        Low      Close  \\\n",
       "Date                                                                    \n",
       "2015-02-27 00:00:00-05:00  13.793333  13.903333  13.520000  13.556000   \n",
       "2015-03-02 00:00:00-05:00  13.513333  13.556000  13.055333  13.155333   \n",
       "2015-03-03 00:00:00-05:00  13.120667  13.349333  13.021333  13.304000   \n",
       "2015-03-04 00:00:00-05:00  13.283333  13.501333  13.147333  13.496000   \n",
       "2015-03-05 00:00:00-05:00  13.523333  13.746000  13.343333  13.375333   \n",
       "\n",
       "                              Volume  Dividends  Stock Splits  \n",
       "Date                                                           \n",
       "2015-02-27 00:00:00-05:00   58231500        0.0           0.0  \n",
       "2015-03-02 00:00:00-05:00  118831500        0.0           0.0  \n",
       "2015-03-03 00:00:00-05:00   66484500        0.0           0.0  \n",
       "2015-03-04 00:00:00-05:00   63330000        0.0           0.0  \n",
       "2015-03-05 00:00:00-05:00   73155000        0.0           0.0  "
      ]
     },
     "execution_count": 34,
     "metadata": {},
     "output_type": "execute_result"
    }
   ],
   "source": [
    "historical_data.head()"
   ]
  },
  {
   "cell_type": "code",
   "execution_count": 35,
   "metadata": {},
   "outputs": [],
   "source": [
    "import matplotlib.pyplot as plt"
   ]
  },
  {
   "cell_type": "code",
   "execution_count": 36,
   "metadata": {},
   "outputs": [
    {
     "name": "stdout",
     "output_type": "stream",
     "text": [
      "Series([], Name: Dividends, dtype: float64)\n"
     ]
    }
   ],
   "source": [
    "dividends = tesla_data.dividends\n",
    "print(dividends)"
   ]
  },
  {
   "cell_type": "markdown",
   "metadata": {},
   "source": [
    "# Check Basic Statistics and Data Types"
   ]
  },
  {
   "cell_type": "code",
   "execution_count": 44,
   "metadata": {},
   "outputs": [
    {
     "name": "stdout",
     "output_type": "stream",
     "text": [
      "<class 'pandas.core.frame.DataFrame'>\n",
      "DatetimeIndex: 2515 entries, 2015-02-27 00:00:00-05:00 to 2025-02-26 00:00:00-05:00\n",
      "Data columns (total 7 columns):\n",
      " #   Column        Non-Null Count  Dtype  \n",
      "---  ------        --------------  -----  \n",
      " 0   Open          2515 non-null   float64\n",
      " 1   High          2515 non-null   float64\n",
      " 2   Low           2515 non-null   float64\n",
      " 3   Close         2515 non-null   float64\n",
      " 4   Volume        2515 non-null   int64  \n",
      " 5   Dividends     2515 non-null   float64\n",
      " 6   Stock Splits  2515 non-null   float64\n",
      "dtypes: float64(6), int64(1)\n",
      "memory usage: 157.2 KB\n",
      "None\n"
     ]
    }
   ],
   "source": [
    "\n",
    "print(historical_data.info())\n",
    "\n"
   ]
  },
  {
   "cell_type": "code",
   "execution_count": 45,
   "metadata": {},
   "outputs": [
    {
     "name": "stdout",
     "output_type": "stream",
     "text": [
      "Open            0\n",
      "High            0\n",
      "Low             0\n",
      "Close           0\n",
      "Volume          0\n",
      "Dividends       0\n",
      "Stock Splits    0\n",
      "dtype: int64\n"
     ]
    }
   ],
   "source": [
    "print(historical_data.isnull().sum())"
   ]
  },
  {
   "cell_type": "code",
   "execution_count": 46,
   "metadata": {},
   "outputs": [
    {
     "name": "stdout",
     "output_type": "stream",
     "text": [
      "              Open         High          Low        Close        Volume  \\\n",
      "count  2515.000000  2515.000000  2515.000000  2515.000000  2.515000e+03   \n",
      "mean    121.164826   123.826077   118.292377   121.102992  1.123459e+08   \n",
      "std     118.094231   120.733068   115.129785   117.938093  7.395841e+07   \n",
      "min       9.488000    10.331333     9.403333     9.578000  1.062000e+07   \n",
      "25%      17.547000    17.818334    17.240001    17.546667  6.716600e+07   \n",
      "50%      38.379333    39.633331    37.205334    38.146667  9.288270e+07   \n",
      "75%     224.748337   229.980003   219.049995   224.508339  1.297030e+08   \n",
      "max     475.899994   488.540009   457.510010   479.859985  9.140820e+08   \n",
      "\n",
      "       Dividends  Stock Splits  \n",
      "count     2515.0   2515.000000  \n",
      "mean         0.0      0.003181  \n",
      "std          0.0      0.116250  \n",
      "min          0.0      0.000000  \n",
      "25%          0.0      0.000000  \n",
      "50%          0.0      0.000000  \n",
      "75%          0.0      0.000000  \n",
      "max          0.0      5.000000  \n"
     ]
    }
   ],
   "source": [
    "print(historical_data.describe())"
   ]
  },
  {
   "cell_type": "markdown",
   "metadata": {},
   "source": [
    "# Handle Missing Values"
   ]
  },
  {
   "cell_type": "code",
   "execution_count": 56,
   "metadata": {},
   "outputs": [
    {
     "name": "stdout",
     "output_type": "stream",
     "text": [
      "Open            0\n",
      "High            0\n",
      "Low             0\n",
      "Close           0\n",
      "Volume          0\n",
      "Dividends       0\n",
      "Stock Splits    0\n",
      "dtype: int64\n"
     ]
    }
   ],
   "source": [
    "print(historical_data.isnull().sum())"
   ]
  },
  {
   "cell_type": "markdown",
   "metadata": {},
   "source": [
    "# Calculate Z-scores and Identify outliers"
   ]
  },
  {
   "cell_type": "code",
   "execution_count": 62,
   "metadata": {},
   "outputs": [
    {
     "name": "stdout",
     "output_type": "stream",
     "text": [
      "                                 Open       High        Low       Close  \\\n",
      "Date                                                                      \n",
      "2024-12-17 00:00:00-05:00  475.899994  483.98999  457.51001  479.859985   \n",
      "\n",
      "                              Volume  Dividends  Stock Splits   Z-Score  \n",
      "Date                                                                     \n",
      "2024-12-17 00:00:00-05:00  131223000        0.0           0.0  3.042514  \n"
     ]
    }
   ],
   "source": [
    "from scipy import stats\n",
    "\n",
    "\n",
    "historical_data['Z-Score'] = stats.zscore(historical_data['Close'])\n",
    "\n",
    "outliers_z = historical_data[(historical_data['Z-Score'] > 3) | (historical_data['Z-Score'] < -3)]\n",
    "\n",
    "print(outliers_z)"
   ]
  },
  {
   "cell_type": "markdown",
   "metadata": {},
   "source": [
    "# Box plot for visualizing outliers"
   ]
  },
  {
   "cell_type": "code",
   "execution_count": 61,
   "metadata": {},
   "outputs": [
    {
     "data": {
      "image/png": "[encoded data removed]",
      "text/plain": [
       "<Figure size 1400x700 with 1 Axes>"
      ]
     },
     "metadata": {},
     "output_type": "display_data"
    }
   ],
   "source": [
    "\n",
    "\n",
    "plt.figure(figsize=(14, 7))\n",
    "\n",
    "sns.boxplot(x=outliers_z.index, y='Close', data=outliers_z)\n",
    "plt.title('Box Plot of TSLA Closing Prices')\n",
    "plt.xticks(rotation=45)\n",
    "plt.show()"
   ]
  },
  {
   "cell_type": "markdown",
   "metadata": {},
   "source": [
    "# Min-Max Scaling Normalization and Scaling Techniques "
   ]
  },
  {
   "cell_type": "code",
   "execution_count": 66,
   "metadata": {},
   "outputs": [
    {
     "name": "stdout",
     "output_type": "stream",
     "text": [
      "                               Open      High       Low     Close    Volume  \\\n",
      "Date                                                                          \n",
      "2015-02-27 00:00:00-05:00  0.009231  0.007470  0.009187  0.008459  0.052699   \n",
      "2015-03-02 00:00:00-05:00  0.008630  0.006743  0.008150  0.007607  0.119774   \n",
      "2015-03-03 00:00:00-05:00  0.007789  0.006311  0.008074  0.007923  0.061834   \n",
      "2015-03-04 00:00:00-05:00  0.008137  0.006629  0.008355  0.008331  0.058342   \n",
      "2015-03-05 00:00:00-05:00  0.008652  0.007141  0.008793  0.008075  0.069217   \n",
      "2015-03-06 00:00:00-05:00  0.008132  0.006382  0.007602  0.007118  0.099690   \n",
      "2015-03-09 00:00:00-04:00  0.007443  0.005509  0.007022  0.006692  0.100093   \n",
      "2015-03-10 00:00:00-04:00  0.006595  0.005371  0.006925  0.006613  0.080884   \n",
      "2015-03-11 00:00:00-04:00  0.006980  0.005745  0.007433  0.007098  0.070842   \n",
      "2015-03-12 00:00:00-04:00  0.007351  0.005504  0.007245  0.006719  0.057135   \n",
      "2015-03-13 00:00:00-04:00  0.006665  0.005127  0.006884  0.006381  0.078470   \n",
      "2015-03-16 00:00:00-04:00  0.007101  0.005707  0.007253  0.007376  0.081699   \n",
      "2015-03-17 00:00:00-04:00  0.007591  0.006098  0.007869  0.007238  0.069501   \n",
      "2015-03-18 00:00:00-04:00  0.007524  0.006400  0.007745  0.008086  0.068286   \n",
      "2015-03-19 00:00:00-04:00  0.008530  0.006917  0.007956  0.007369  0.128957   \n",
      "2015-03-20 00:00:00-04:00  0.007880  0.006137  0.008119  0.007713  0.059131   \n",
      "2015-03-23 00:00:00-04:00  0.008030  0.006347  0.008394  0.007933  0.031937   \n",
      "2015-03-24 00:00:00-04:00  0.008470  0.006806  0.008733  0.008229  0.048844   \n",
      "2015-03-25 00:00:00-04:00  0.007997  0.006081  0.007684  0.007177  0.083386   \n",
      "2015-03-26 00:00:00-04:00  0.007375  0.005551  0.007238  0.006626  0.056782   \n",
      "2015-03-27 00:00:00-04:00  0.006682  0.004785  0.006003  0.005859  0.131111   \n",
      "2015-03-30 00:00:00-04:00  0.006222  0.005197  0.006063  0.006648  0.155759   \n",
      "2015-03-31 00:00:00-04:00  0.007320  0.005408  0.007046  0.006393  0.071701   \n",
      "2015-04-01 00:00:00-04:00  0.006629  0.005204  0.006695  0.006226  0.051246   \n",
      "2015-04-02 00:00:00-04:00  0.006848  0.005334  0.007282  0.006709  0.071432   \n",
      "2015-04-06 00:00:00-04:00  0.007959  0.007358  0.008398  0.008425  0.195046   \n",
      "2015-04-07 00:00:00-04:00  0.008603  0.006983  0.008940  0.008446  0.060433   \n",
      "2015-04-08 00:00:00-04:00  0.009417  0.007797  0.009644  0.009073  0.092894   \n",
      "2015-04-09 00:00:00-04:00  0.009449  0.007723  0.009681  0.009416  0.051339   \n",
      "2015-04-10 00:00:00-04:00  0.009652  0.007902  0.010109  0.009530  0.055780   \n",
      "\n",
      "                           Dividends  Stock Splits   Z-Score  \n",
      "Date                                                          \n",
      "2015-02-27 00:00:00-05:00        0.0           0.0 -0.912075  \n",
      "2015-03-02 00:00:00-05:00        0.0           0.0 -0.915473  \n",
      "2015-03-03 00:00:00-05:00        0.0           0.0 -0.914212  \n",
      "2015-03-04 00:00:00-05:00        0.0           0.0 -0.912584  \n",
      "2015-03-05 00:00:00-05:00        0.0           0.0 -0.913607  \n",
      "2015-03-06 00:00:00-05:00        0.0           0.0 -0.917423  \n",
      "2015-03-09 00:00:00-04:00        0.0           0.0 -0.919120  \n",
      "2015-03-10 00:00:00-04:00        0.0           0.0 -0.919436  \n",
      "2015-03-11 00:00:00-04:00        0.0           0.0 -0.917503  \n",
      "2015-03-12 00:00:00-04:00        0.0           0.0 -0.919012  \n",
      "2015-03-13 00:00:00-04:00        0.0           0.0 -0.920363  \n",
      "2015-03-16 00:00:00-04:00        0.0           0.0 -0.916394  \n",
      "2015-03-17 00:00:00-04:00        0.0           0.0 -0.916943  \n",
      "2015-03-18 00:00:00-04:00        0.0           0.0 -0.913562  \n",
      "2015-03-19 00:00:00-04:00        0.0           0.0 -0.916423  \n",
      "2015-03-20 00:00:00-04:00        0.0           0.0 -0.915049  \n",
      "2015-03-23 00:00:00-04:00        0.0           0.0 -0.914173  \n",
      "2015-03-24 00:00:00-04:00        0.0           0.0 -0.912991  \n",
      "2015-03-25 00:00:00-04:00        0.0           0.0 -0.917186  \n",
      "2015-03-26 00:00:00-04:00        0.0           0.0 -0.919385  \n",
      "2015-03-27 00:00:00-04:00        0.0           0.0 -0.922444  \n",
      "2015-03-30 00:00:00-04:00        0.0           0.0 -0.919295  \n",
      "2015-03-31 00:00:00-04:00        0.0           0.0 -0.920313  \n",
      "2015-04-01 00:00:00-04:00        0.0           0.0 -0.920980  \n",
      "2015-04-02 00:00:00-04:00        0.0           0.0 -0.919052  \n",
      "2015-04-06 00:00:00-04:00        0.0           0.0 -0.912211  \n",
      "2015-04-07 00:00:00-04:00        0.0           0.0 -0.912126  \n",
      "2015-04-08 00:00:00-04:00        0.0           0.0 -0.909627  \n",
      "2015-04-09 00:00:00-04:00        0.0           0.0 -0.908259  \n",
      "2015-04-10 00:00:00-04:00        0.0           0.0 -0.907801  \n"
     ]
    }
   ],
   "source": [
    "from sklearn.preprocessing import MinMaxScaler\n",
    "\n",
    "scaler = MinMaxScaler()\n",
    "historical_data[['Open', 'High', 'Low', 'Close', 'Volume']] = scaler.fit_transform(historical_data[['Open', 'High', 'Low', 'Close', 'Volume']])\n",
    "print(historical_data.head(30))"
   ]
  },
  {
   "cell_type": "markdown",
   "metadata": {},
   "source": [
    "# Closing Price Over Time"
   ]
  },
  {
   "cell_type": "code",
   "execution_count": 67,
   "metadata": {},
   "outputs": [
    {
     "data": {
      "image/png": "[encoded data removed]",
      "text/plain": [
       "<Figure size 1400x700 with 1 Axes>"
      ]
     },
     "metadata": {},
     "output_type": "display_data"
    }
   ],
   "source": [
    "plt.figure(figsize=(14, 7))\n",
    "plt.plot(historical_data.index, historical_data['Close'], label='Closing Price', color='blue', linewidth=2)\n",
    "plt.title('Tesla Closing Price Over Time')\n",
    "plt.xlabel('Date')\n",
    "plt.ylabel('Normalized Closing Price')\n",
    "plt.grid()\n",
    "plt.legend()\n",
    "plt.show()"
   ]
  }
 ],
 "metadata": {
  "kernelspec": {
   "display_name": "base",
   "language": "python",
   "name": "python3"
  },
  "language_info": {
   "codemirror_mode": {
    "name": "ipython",
    "version": 3
   },
   "file_extension": ".py",
   "mimetype": "text/x-python",
   "name": "python",
   "nbconvert_exporter": "python",
   "pygments_lexer": "ipython3",
   "version": "3.12.7"
  }
 },
 "nbformat": 4,
 "nbformat_minor": 2
}
