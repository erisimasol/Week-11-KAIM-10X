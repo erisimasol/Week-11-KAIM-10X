{
 "cells": [
  {
   "cell_type": "markdown",
   "metadata": {},
   "source": [
    "# Import Libraries "
   ]
  },
  {
   "cell_type": "code",
   "execution_count": 1,
   "metadata": {},
   "outputs": [],
   "source": [
    "import pandas as pd\n",
    "import numpy as np\n",
    "import seaborn as sns\n",
    "import matplotlib.pyplot as plt\n",
    "from sklearn.model_selection import train_test_split\n",
    "from sklearn.ensemble import RandomForestRegressor\n",
    "from sklearn.metrics import mean_squared_error"
   ]
  },
  {
   "cell_type": "markdown",
   "metadata": {},
   "source": [
    "## Install the yfinance library "
   ]
  },
  {
   "cell_type": "code",
   "execution_count": 2,
   "metadata": {},
   "outputs": [
    {
     "name": "stdout",
     "output_type": "stream",
     "text": [
      "Requirement already satisfied: yfinance in c:\\users\\pc\\anaconda3\\lib\\site-packages (0.2.54)\n",
      "Requirement already satisfied: pandas>=1.3.0 in c:\\users\\pc\\anaconda3\\lib\\site-packages (from yfinance) (2.2.2)\n",
      "Requirement already satisfied: numpy>=1.16.5 in c:\\users\\pc\\anaconda3\\lib\\site-packages (from yfinance) (1.26.4)\n",
      "Requirement already satisfied: requests>=2.31 in c:\\users\\pc\\anaconda3\\lib\\site-packages (from yfinance) (2.32.3)\n",
      "Requirement already satisfied: multitasking>=0.0.7 in c:\\users\\pc\\anaconda3\\lib\\site-packages (from yfinance) (0.0.11)\n",
      "Requirement already satisfied: platformdirs>=2.0.0 in c:\\users\\pc\\anaconda3\\lib\\site-packages (from yfinance) (3.10.0)\n",
      "Requirement already satisfied: pytz>=2022.5 in c:\\users\\pc\\anaconda3\\lib\\site-packages (from yfinance) (2024.1)\n",
      "Requirement already satisfied: frozendict>=2.3.4 in c:\\users\\pc\\anaconda3\\lib\\site-packages (from yfinance) (2.4.2)\n",
      "Requirement already satisfied: peewee>=3.16.2 in c:\\users\\pc\\anaconda3\\lib\\site-packages (from yfinance) (3.17.9)\n",
      "Requirement already satisfied: beautifulsoup4>=4.11.1 in c:\\users\\pc\\anaconda3\\lib\\site-packages (from yfinance) (4.12.3)\n",
      "Requirement already satisfied: soupsieve>1.2 in c:\\users\\pc\\anaconda3\\lib\\site-packages (from beautifulsoup4>=4.11.1->yfinance) (2.5)\n",
      "Requirement already satisfied: python-dateutil>=2.8.2 in c:\\users\\pc\\anaconda3\\lib\\site-packages (from pandas>=1.3.0->yfinance) (2.9.0.post0)\n",
      "Requirement already satisfied: tzdata>=2022.7 in c:\\users\\pc\\anaconda3\\lib\\site-packages (from pandas>=1.3.0->yfinance) (2023.3)\n",
      "Requirement already satisfied: charset-normalizer<4,>=2 in c:\\users\\pc\\anaconda3\\lib\\site-packages (from requests>=2.31->yfinance) (3.3.2)\n",
      "Requirement already satisfied: idna<4,>=2.5 in c:\\users\\pc\\anaconda3\\lib\\site-packages (from requests>=2.31->yfinance) (3.7)\n",
      "Requirement already satisfied: urllib3<3,>=1.21.1 in c:\\users\\pc\\anaconda3\\lib\\site-packages (from requests>=2.31->yfinance) (2.2.3)\n",
      "Requirement already satisfied: certifi>=2017.4.17 in c:\\users\\pc\\anaconda3\\lib\\site-packages (from requests>=2.31->yfinance) (2024.12.14)\n",
      "Requirement already satisfied: six>=1.5 in c:\\users\\pc\\anaconda3\\lib\\site-packages (from python-dateutil>=2.8.2->pandas>=1.3.0->yfinance) (1.16.0)\n",
      "Note: you may need to restart the kernel to use updated packages.\n"
     ]
    }
   ],
   "source": [
    "pip install yfinance"
   ]
  },
  {
   "cell_type": "code",
   "execution_count": 3,
   "metadata": {},
   "outputs": [],
   "source": [
    "import yfinance as yf"
   ]
  },
  {
   "cell_type": "markdown",
   "metadata": {},
   "source": [
    "# Define the ticker symbol for Tesla"
   ]
  },
  {
   "cell_type": "code",
   "execution_count": 4,
   "metadata": {},
   "outputs": [],
   "source": [
    "\n",
    "ticker_symbol = 'TSLA'"
   ]
  },
  {
   "cell_type": "markdown",
   "metadata": {},
   "source": [
    "# Fetch the data"
   ]
  },
  {
   "cell_type": "code",
   "execution_count": 5,
   "metadata": {},
   "outputs": [],
   "source": [
    "\n",
    "tesla_data = yf.Ticker(ticker_symbol)"
   ]
  },
  {
   "cell_type": "code",
   "execution_count": 6,
   "metadata": {},
   "outputs": [],
   "source": [
    "\n",
    "historical_data = tesla_data.history(period='10y')"
   ]
  },
  {
   "cell_type": "markdown",
   "metadata": {},
   "source": [
    "# Display the historical data"
   ]
  },
  {
   "cell_type": "code",
   "execution_count": 7,
   "metadata": {},
   "outputs": [
    {
     "name": "stdout",
     "output_type": "stream",
     "text": [
      "Historical Stock Prices for TSLA:\n",
      "                                 Open        High         Low       Close  \\\n",
      "Date                                                                        \n",
      "2015-02-27 00:00:00-05:00   13.793333   13.903333   13.520000   13.556000   \n",
      "2015-03-02 00:00:00-05:00   13.513333   13.556000   13.055333   13.155333   \n",
      "2015-03-03 00:00:00-05:00   13.120667   13.349333   13.021333   13.304000   \n",
      "2015-03-04 00:00:00-05:00   13.283333   13.501333   13.147333   13.496000   \n",
      "2015-03-05 00:00:00-05:00   13.523333   13.746000   13.343333   13.375333   \n",
      "...                               ...         ...         ...         ...   \n",
      "2025-02-20 00:00:00-05:00  361.510010  362.299988  348.000000  354.399994   \n",
      "2025-02-21 00:00:00-05:00  353.440002  354.980011  334.420013  337.799988   \n",
      "2025-02-24 00:00:00-05:00  338.140015  342.399994  324.700012  330.529999   \n",
      "2025-02-25 00:00:00-05:00  327.019989  328.890015  297.250000  302.799988   \n",
      "2025-02-26 00:00:00-05:00  303.709991  309.000000  288.040009  290.799988   \n",
      "\n",
      "                              Volume  Dividends  Stock Splits  \n",
      "Date                                                           \n",
      "2015-02-27 00:00:00-05:00   58231500        0.0           0.0  \n",
      "2015-03-02 00:00:00-05:00  118831500        0.0           0.0  \n",
      "2015-03-03 00:00:00-05:00   66484500        0.0           0.0  \n",
      "2015-03-04 00:00:00-05:00   63330000        0.0           0.0  \n",
      "2015-03-05 00:00:00-05:00   73155000        0.0           0.0  \n",
      "...                              ...        ...           ...  \n",
      "2025-02-20 00:00:00-05:00   45965400        0.0           0.0  \n",
      "2025-02-21 00:00:00-05:00   74058600        0.0           0.0  \n",
      "2025-02-24 00:00:00-05:00   76052300        0.0           0.0  \n",
      "2025-02-25 00:00:00-05:00  134228800        0.0           0.0  \n",
      "2025-02-26 00:00:00-05:00   99373300        0.0           0.0  \n",
      "\n",
      "[2515 rows x 7 columns]\n"
     ]
    }
   ],
   "source": [
    "print(\"Historical Stock Prices for TSLA:\")\n",
    "print(historical_data)"
   ]
  },
  {
   "cell_type": "markdown",
   "metadata": {},
   "source": [
    "# Save to CSV if needed"
   ]
  },
  {
   "cell_type": "code",
   "execution_count": 8,
   "metadata": {},
   "outputs": [],
   "source": [
    "\n",
    "historical_data.to_csv('TSLA_historical_data.csv')"
   ]
  },
  {
   "cell_type": "code",
   "execution_count": 9,
   "metadata": {},
   "outputs": [],
   "source": [
    "ticker_symbol = 'BND'"
   ]
  },
  {
   "cell_type": "code",
   "execution_count": 10,
   "metadata": {},
   "outputs": [],
   "source": [
    "BND_data = yf.Ticker(ticker_symbol)"
   ]
  },
  {
   "cell_type": "code",
   "execution_count": 12,
   "metadata": {},
   "outputs": [],
   "source": [
    "historical_data_BND = BND_data.history(period='10y')"
   ]
  },
  {
   "cell_type": "code",
   "execution_count": 13,
   "metadata": {},
   "outputs": [
    {
     "name": "stdout",
     "output_type": "stream",
     "text": [
      "Historical Stock Prices for BND:\n",
      "                                Open       High        Low      Close  \\\n",
      "Date                                                                    \n",
      "2015-02-27 00:00:00-05:00  62.987782  63.048472  62.911922  63.025715   \n",
      "2015-03-02 00:00:00-05:00  63.057592  63.087997  62.806759  62.821964   \n",
      "2015-03-03 00:00:00-05:00  62.806851  62.867661  62.730843  62.746048   \n",
      "2015-03-04 00:00:00-05:00  62.784049  62.829659  62.715643  62.746048   \n",
      "2015-03-05 00:00:00-05:00  62.761164  62.844775  62.707958  62.783966   \n",
      "...                              ...        ...        ...        ...   \n",
      "2025-02-20 00:00:00-05:00  72.459999  72.500000  72.419998  72.449997   \n",
      "2025-02-21 00:00:00-05:00  72.540001  72.860001  72.529999  72.769997   \n",
      "2025-02-24 00:00:00-05:00  72.699997  72.919998  72.690002  72.870003   \n",
      "2025-02-25 00:00:00-05:00  73.110001  73.330002  73.050003  73.330002   \n",
      "2025-02-26 00:00:00-05:00  73.309998  73.480003  73.209999  73.440002   \n",
      "\n",
      "                            Volume  Dividends  Stock Splits  Capital Gains  \n",
      "Date                                                                        \n",
      "2015-02-27 00:00:00-05:00  4094400      0.000           0.0            0.0  \n",
      "2015-03-02 00:00:00-05:00  2476100      0.162           0.0            0.0  \n",
      "2015-03-03 00:00:00-05:00  2648100      0.000           0.0            0.0  \n",
      "2015-03-04 00:00:00-05:00  1425400      0.000           0.0            0.0  \n",
      "2015-03-05 00:00:00-05:00  1340800      0.000           0.0            0.0  \n",
      "...                            ...        ...           ...            ...  \n",
      "2025-02-20 00:00:00-05:00  6199000      0.000           0.0            0.0  \n",
      "2025-02-21 00:00:00-05:00  4460600      0.000           0.0            0.0  \n",
      "2025-02-24 00:00:00-05:00  5580100      0.000           0.0            0.0  \n",
      "2025-02-25 00:00:00-05:00  4835300      0.000           0.0            0.0  \n",
      "2025-02-26 00:00:00-05:00  5825400      0.000           0.0            0.0  \n",
      "\n",
      "[2515 rows x 8 columns]\n"
     ]
    }
   ],
   "source": [
    "print(\"Historical Stock Prices for BND:\")\n",
    "print(historical_data_BND)\n",
    "historical_data_BND.to_csv('TSLA_historical_data.csv')"
   ]
  },
  {
   "cell_type": "code",
   "execution_count": 16,
   "metadata": {},
   "outputs": [],
   "source": [
    "ticker_symbol = 'SPY '\n"
   ]
  },
  {
   "cell_type": "code",
   "execution_count": 19,
   "metadata": {},
   "outputs": [
    {
     "name": "stderr",
     "output_type": "stream",
     "text": [
      "$SPY : possibly delisted; no price data found  (period=10y) (Yahoo error = \"No data found, symbol may be delisted\")\n"
     ]
    },
    {
     "name": "stdout",
     "output_type": "stream",
     "text": [
      "Historical Stock Prices for SPY:\n",
      "                                Open       High        Low      Close  \\\n",
      "Date                                                                    \n",
      "2015-02-27 00:00:00-05:00  62.987782  63.048472  62.911922  63.025715   \n",
      "2015-03-02 00:00:00-05:00  63.057592  63.087997  62.806759  62.821964   \n",
      "2015-03-03 00:00:00-05:00  62.806851  62.867661  62.730843  62.746048   \n",
      "2015-03-04 00:00:00-05:00  62.784049  62.829659  62.715643  62.746048   \n",
      "2015-03-05 00:00:00-05:00  62.761164  62.844775  62.707958  62.783966   \n",
      "...                              ...        ...        ...        ...   \n",
      "2025-02-20 00:00:00-05:00  72.459999  72.500000  72.419998  72.449997   \n",
      "2025-02-21 00:00:00-05:00  72.540001  72.860001  72.529999  72.769997   \n",
      "2025-02-24 00:00:00-05:00  72.699997  72.919998  72.690002  72.870003   \n",
      "2025-02-25 00:00:00-05:00  73.110001  73.330002  73.050003  73.330002   \n",
      "2025-02-26 00:00:00-05:00  73.309998  73.480003  73.209999  73.440002   \n",
      "\n",
      "                            Volume  Dividends  Stock Splits  Capital Gains  \n",
      "Date                                                                        \n",
      "2015-02-27 00:00:00-05:00  4094400      0.000           0.0            0.0  \n",
      "2015-03-02 00:00:00-05:00  2476100      0.162           0.0            0.0  \n",
      "2015-03-03 00:00:00-05:00  2648100      0.000           0.0            0.0  \n",
      "2015-03-04 00:00:00-05:00  1425400      0.000           0.0            0.0  \n",
      "2015-03-05 00:00:00-05:00  1340800      0.000           0.0            0.0  \n",
      "...                            ...        ...           ...            ...  \n",
      "2025-02-20 00:00:00-05:00  6199000      0.000           0.0            0.0  \n",
      "2025-02-21 00:00:00-05:00  4460600      0.000           0.0            0.0  \n",
      "2025-02-24 00:00:00-05:00  5580100      0.000           0.0            0.0  \n",
      "2025-02-25 00:00:00-05:00  4835300      0.000           0.0            0.0  \n",
      "2025-02-26 00:00:00-05:00  5825400      0.000           0.0            0.0  \n",
      "\n",
      "[2515 rows x 8 columns]\n"
     ]
    }
   ],
   "source": [
    "SPY_data = yf.Ticker(ticker_symbol)\n",
    "SPY_data = yf.Ticker(ticker_symbol)\n",
    "historical_data_SPY  = SPY_data.history(period='10y')\n",
    "print(\"Historical Stock Prices for SPY:\")\n",
    "print(historical_data_BND)\n",
    "historical_data_BND.to_csv('TSLA_historical_data.csv')"
   ]
  }
 ],
 "metadata": {
  "kernelspec": {
   "display_name": "base",
   "language": "python",
   "name": "python3"
  },
  "language_info": {
   "codemirror_mode": {
    "name": "ipython",
    "version": 3
   },
   "file_extension": ".py",
   "mimetype": "text/x-python",
   "name": "python",
   "nbconvert_exporter": "python",
   "pygments_lexer": "ipython3",
   "version": "3.12.7"
  }
 },
 "nbformat": 4,
 "nbformat_minor": 2
}
