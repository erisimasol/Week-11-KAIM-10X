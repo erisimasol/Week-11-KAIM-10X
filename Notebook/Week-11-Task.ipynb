{
 "cells": [
  {
   "cell_type": "markdown",
   "metadata": {},
   "source": [
    "# Import Libraries "
   ]
  },
  {
   "cell_type": "code",
   "execution_count": 1,
   "metadata": {},
   "outputs": [],
   "source": [
    "import pandas as pd\n",
    "import numpy as np\n",
    "import seaborn as sns\n",
    "import matplotlib.pyplot as plt\n",
    "from sklearn.model_selection import train_test_split\n",
    "from sklearn.ensemble import RandomForestRegressor\n",
    "from sklearn.metrics import mean_squared_error"
   ]
  },
  {
   "cell_type": "markdown",
   "metadata": {},
   "source": [
    "## Install the yfinance library "
   ]
  },
  {
   "cell_type": "code",
   "execution_count": 2,
   "metadata": {},
   "outputs": [
    {
     "name": "stdout",
     "output_type": "stream",
     "text": [
      "Requirement already satisfied: yfinance in c:\\users\\pc\\anaconda3\\lib\\site-packages (0.2.54)\n",
      "Requirement already satisfied: pandas>=1.3.0 in c:\\users\\pc\\anaconda3\\lib\\site-packages (from yfinance) (2.2.2)\n",
      "Requirement already satisfied: numpy>=1.16.5 in c:\\users\\pc\\anaconda3\\lib\\site-packages (from yfinance) (1.26.4)\n",
      "Requirement already satisfied: requests>=2.31 in c:\\users\\pc\\anaconda3\\lib\\site-packages (from yfinance) (2.32.3)\n",
      "Requirement already satisfied: multitasking>=0.0.7 in c:\\users\\pc\\anaconda3\\lib\\site-packages (from yfinance) (0.0.11)\n",
      "Requirement already satisfied: platformdirs>=2.0.0 in c:\\users\\pc\\anaconda3\\lib\\site-packages (from yfinance) (3.10.0)\n",
      "Requirement already satisfied: pytz>=2022.5 in c:\\users\\pc\\anaconda3\\lib\\site-packages (from yfinance) (2024.1)\n",
      "Requirement already satisfied: frozendict>=2.3.4 in c:\\users\\pc\\anaconda3\\lib\\site-packages (from yfinance) (2.4.2)\n",
      "Requirement already satisfied: peewee>=3.16.2 in c:\\users\\pc\\anaconda3\\lib\\site-packages (from yfinance) (3.17.9)\n",
      "Requirement already satisfied: beautifulsoup4>=4.11.1 in c:\\users\\pc\\anaconda3\\lib\\site-packages (from yfinance) (4.12.3)\n",
      "Requirement already satisfied: soupsieve>1.2 in c:\\users\\pc\\anaconda3\\lib\\site-packages (from beautifulsoup4>=4.11.1->yfinance) (2.5)\n",
      "Requirement already satisfied: python-dateutil>=2.8.2 in c:\\users\\pc\\anaconda3\\lib\\site-packages (from pandas>=1.3.0->yfinance) (2.9.0.post0)\n",
      "Requirement already satisfied: tzdata>=2022.7 in c:\\users\\pc\\anaconda3\\lib\\site-packages (from pandas>=1.3.0->yfinance) (2023.3)\n",
      "Requirement already satisfied: charset-normalizer<4,>=2 in c:\\users\\pc\\anaconda3\\lib\\site-packages (from requests>=2.31->yfinance) (3.3.2)\n",
      "Requirement already satisfied: idna<4,>=2.5 in c:\\users\\pc\\anaconda3\\lib\\site-packages (from requests>=2.31->yfinance) (3.7)\n",
      "Requirement already satisfied: urllib3<3,>=1.21.1 in c:\\users\\pc\\anaconda3\\lib\\site-packages (from requests>=2.31->yfinance) (2.2.3)\n",
      "Requirement already satisfied: certifi>=2017.4.17 in c:\\users\\pc\\anaconda3\\lib\\site-packages (from requests>=2.31->yfinance) (2024.12.14)\n",
      "Requirement already satisfied: six>=1.5 in c:\\users\\pc\\anaconda3\\lib\\site-packages (from python-dateutil>=2.8.2->pandas>=1.3.0->yfinance) (1.16.0)\n",
      "Note: you may need to restart the kernel to use updated packages.\n"
     ]
    }
   ],
   "source": [
    "pip install yfinance"
   ]
  },
  {
   "cell_type": "code",
   "execution_count": 3,
   "metadata": {},
   "outputs": [],
   "source": [
    "import yfinance as yf"
   ]
  },
  {
   "cell_type": "markdown",
   "metadata": {},
   "source": [
    "# Define the ticker symbol for Tesla"
   ]
  },
  {
   "cell_type": "code",
   "execution_count": 4,
   "metadata": {},
   "outputs": [],
   "source": [
    "\n",
    "ticker_symbol = 'TSLA'"
   ]
  },
  {
   "cell_type": "markdown",
   "metadata": {},
   "source": [
    "# Fetch the data"
   ]
  },
  {
   "cell_type": "code",
   "execution_count": 5,
   "metadata": {},
   "outputs": [],
   "source": [
    "\n",
    "tesla_data = yf.Ticker(ticker_symbol)"
   ]
  },
  {
   "cell_type": "code",
   "execution_count": null,
   "metadata": {},
   "outputs": [],
   "source": [
    "\n",
    "historical_data = BND.history(period='10y')"
   ]
  },
  {
   "cell_type": "markdown",
   "metadata": {},
   "source": [
    "# Display the historical data"
   ]
  },
  {
   "cell_type": "code",
   "execution_count": 7,
   "metadata": {},
   "outputs": [
    {
     "name": "stdout",
     "output_type": "stream",
     "text": [
      "Historical Stock Prices for TSLA:\n",
      "                                 Open        High         Low       Close  \\\n",
      "Date                                                                        \n",
      "2015-02-27 00:00:00-05:00   13.793333   13.903333   13.520000   13.556000   \n",
      "2015-03-02 00:00:00-05:00   13.513333   13.556000   13.055333   13.155333   \n",
      "2015-03-03 00:00:00-05:00   13.120667   13.349333   13.021333   13.304000   \n",
      "2015-03-04 00:00:00-05:00   13.283333   13.501333   13.147333   13.496000   \n",
      "2015-03-05 00:00:00-05:00   13.523333   13.746000   13.343333   13.375333   \n",
      "...                               ...         ...         ...         ...   \n",
      "2025-02-20 00:00:00-05:00  361.510010  362.299988  348.000000  354.399994   \n",
      "2025-02-21 00:00:00-05:00  353.440002  354.980011  334.420013  337.799988   \n",
      "2025-02-24 00:00:00-05:00  338.140015  342.399994  324.700012  330.529999   \n",
      "2025-02-25 00:00:00-05:00  327.019989  328.890015  297.250000  302.799988   \n",
      "2025-02-26 00:00:00-05:00  303.709991  309.000000  288.040009  290.799988   \n",
      "\n",
      "                              Volume  Dividends  Stock Splits  \n",
      "Date                                                           \n",
      "2015-02-27 00:00:00-05:00   58231500        0.0           0.0  \n",
      "2015-03-02 00:00:00-05:00  118831500        0.0           0.0  \n",
      "2015-03-03 00:00:00-05:00   66484500        0.0           0.0  \n",
      "2015-03-04 00:00:00-05:00   63330000        0.0           0.0  \n",
      "2015-03-05 00:00:00-05:00   73155000        0.0           0.0  \n",
      "...                              ...        ...           ...  \n",
      "2025-02-20 00:00:00-05:00   45965400        0.0           0.0  \n",
      "2025-02-21 00:00:00-05:00   74058600        0.0           0.0  \n",
      "2025-02-24 00:00:00-05:00   76052300        0.0           0.0  \n",
      "2025-02-25 00:00:00-05:00  134228800        0.0           0.0  \n",
      "2025-02-26 00:00:00-05:00   99373300        0.0           0.0  \n",
      "\n",
      "[2515 rows x 7 columns]\n"
     ]
    }
   ],
   "source": [
    "print(\"Historical Stock Prices for TSLA:\")\n",
    "print(historical_data)"
   ]
  },
  {
   "cell_type": "markdown",
   "metadata": {},
   "source": [
    "# Save to CSV if needed"
   ]
  },
  {
   "cell_type": "code",
   "execution_count": 47,
   "metadata": {},
   "outputs": [],
   "source": [
    "\n",
    "historical_data.to_csv('BND_historical_data.csv')"
   ]
  },
  {
   "cell_type": "code",
   "execution_count": 48,
   "metadata": {},
   "outputs": [],
   "source": [
    "ticker_symbol = 'BND'"
   ]
  },
  {
   "cell_type": "code",
   "execution_count": 49,
   "metadata": {},
   "outputs": [],
   "source": [
    "BND_data = yf.Ticker(ticker_symbol)"
   ]
  },
  {
   "cell_type": "code",
   "execution_count": 50,
   "metadata": {},
   "outputs": [],
   "source": [
    "historical_data_BND = BND_data.history(period='10y')"
   ]
  },
  {
   "cell_type": "code",
   "execution_count": 51,
   "metadata": {},
   "outputs": [
    {
     "name": "stdout",
     "output_type": "stream",
     "text": [
      "Historical Stock Prices for BND:\n",
      "                                Open       High        Low      Close  \\\n",
      "Date                                                                    \n",
      "2015-02-27 00:00:00-05:00  62.987797  63.048488  62.911937  63.025730   \n",
      "2015-03-02 00:00:00-05:00  63.057619  63.088024  62.806786  62.821991   \n",
      "2015-03-03 00:00:00-05:00  62.806806  62.867615  62.730797  62.746002   \n",
      "2015-03-04 00:00:00-05:00  62.784004  62.829613  62.715598  62.746002   \n",
      "2015-03-05 00:00:00-05:00  62.761153  62.844764  62.707946  62.783955   \n",
      "...                              ...        ...        ...        ...   \n",
      "2025-02-21 00:00:00-05:00  72.540001  72.860001  72.529999  72.769997   \n",
      "2025-02-24 00:00:00-05:00  72.699997  72.919998  72.690002  72.870003   \n",
      "2025-02-25 00:00:00-05:00  73.110001  73.330002  73.050003  73.330002   \n",
      "2025-02-26 00:00:00-05:00  73.309998  73.480003  73.209999  73.440002   \n",
      "2025-02-27 00:00:00-05:00  73.309998  73.415001  73.260002  73.305000   \n",
      "\n",
      "                             Volume  Dividends  Stock Splits  Capital Gains  \n",
      "Date                                                                         \n",
      "2015-02-27 00:00:00-05:00   4094400      0.000           0.0            0.0  \n",
      "2015-03-02 00:00:00-05:00   2476100      0.162           0.0            0.0  \n",
      "2015-03-03 00:00:00-05:00   2648100      0.000           0.0            0.0  \n",
      "2015-03-04 00:00:00-05:00   1425400      0.000           0.0            0.0  \n",
      "2015-03-05 00:00:00-05:00   1340800      0.000           0.0            0.0  \n",
      "...                             ...        ...           ...            ...  \n",
      "2025-02-21 00:00:00-05:00   4460600      0.000           0.0            0.0  \n",
      "2025-02-24 00:00:00-05:00   5580100      0.000           0.0            0.0  \n",
      "2025-02-25 00:00:00-05:00   4835300      0.000           0.0            0.0  \n",
      "2025-02-26 00:00:00-05:00   5825400      0.000           0.0            0.0  \n",
      "2025-02-27 00:00:00-05:00  12571312      0.000           0.0            0.0  \n",
      "\n",
      "[2516 rows x 8 columns]\n"
     ]
    }
   ],
   "source": [
    "print(\"Historical Stock Prices for BND:\")\n",
    "print(historical_data_BND)\n",
    "historical_data_BND.to_csv('BND_historical_data.csv')"
   ]
  },
  {
   "cell_type": "markdown",
   "metadata": {},
   "source": [
    "# Basic Statistics and Data Types"
   ]
  },
  {
   "cell_type": "code",
   "execution_count": 52,
   "metadata": {},
   "outputs": [
    {
     "name": "stdout",
     "output_type": "stream",
     "text": [
      "<class 'pandas.core.frame.DataFrame'>\n",
      "DatetimeIndex: 2515 entries, 2015-02-27 00:00:00-05:00 to 2025-02-26 00:00:00-05:00\n",
      "Data columns (total 7 columns):\n",
      " #   Column        Non-Null Count  Dtype  \n",
      "---  ------        --------------  -----  \n",
      " 0   Open          2515 non-null   float64\n",
      " 1   High          2515 non-null   float64\n",
      " 2   Low           2515 non-null   float64\n",
      " 3   Close         2515 non-null   float64\n",
      " 4   Volume        2515 non-null   int64  \n",
      " 5   Dividends     2515 non-null   float64\n",
      " 6   Stock Splits  2515 non-null   float64\n",
      "dtypes: float64(6), int64(1)\n",
      "memory usage: 157.2 KB\n",
      "None\n",
      "Open            0\n",
      "High            0\n",
      "Low             0\n",
      "Close           0\n",
      "Volume          0\n",
      "Dividends       0\n",
      "Stock Splits    0\n",
      "dtype: int64\n",
      "              Open         High          Low        Close        Volume  \\\n",
      "count  2515.000000  2515.000000  2515.000000  2515.000000  2.515000e+03   \n",
      "mean    121.164826   123.826077   118.292377   121.102992  1.123459e+08   \n",
      "std     118.094231   120.733068   115.129785   117.938093  7.395841e+07   \n",
      "min       9.488000    10.331333     9.403333     9.578000  1.062000e+07   \n",
      "25%      17.547000    17.818334    17.240001    17.546667  6.716600e+07   \n",
      "50%      38.379333    39.633331    37.205334    38.146667  9.288270e+07   \n",
      "75%     224.748337   229.980003   219.049995   224.508339  1.297030e+08   \n",
      "max     475.899994   488.540009   457.510010   479.859985  9.140820e+08   \n",
      "\n",
      "       Dividends  Stock Splits  \n",
      "count     2515.0   2515.000000  \n",
      "mean         0.0      0.003181  \n",
      "std          0.0      0.116250  \n",
      "min          0.0      0.000000  \n",
      "25%          0.0      0.000000  \n",
      "50%          0.0      0.000000  \n",
      "75%          0.0      0.000000  \n",
      "max          0.0      5.000000  \n"
     ]
    }
   ],
   "source": [
    "\n",
    "print(historical_data.info())\n",
    "print(historical_data.isnull().sum())\n",
    "print(historical_data.describe())\n"
   ]
  },
  {
   "cell_type": "markdown",
   "metadata": {},
   "source": [
    "# Pre-process and exploring SPY data set "
   ]
  },
  {
   "cell_type": "code",
   "execution_count": 53,
   "metadata": {},
   "outputs": [
    {
     "name": "stdout",
     "output_type": "stream",
     "text": [
      "Historical Stock Prices for SPY:\n",
      "                                 Open        High         Low       Close  \\\n",
      "Date                                                                        \n",
      "2015-02-27 00:00:00-05:00  177.490993  177.759848  176.936501  176.986908   \n",
      "2015-03-02 00:00:00-05:00  177.087686  178.163083  177.037279  178.104279   \n",
      "2015-03-03 00:00:00-05:00  177.667396  178.154687  176.499582  177.373337   \n",
      "2015-03-04 00:00:00-05:00  176.768450  176.844074  175.642647  176.625626   \n",
      "2015-03-05 00:00:00-05:00  176.953232  177.104466  176.306323  176.818817   \n",
      "...                               ...         ...         ...         ...   \n",
      "2025-02-21 00:00:00-05:00  610.159973  610.299988  599.469971  599.940002   \n",
      "2025-02-24 00:00:00-05:00  602.020020  603.030029  596.489990  597.210022   \n",
      "2025-02-25 00:00:00-05:00  597.150024  597.890015  589.559998  594.239990   \n",
      "2025-02-26 00:00:00-05:00  595.929993  599.580017  591.859985  594.539978   \n",
      "2025-02-27 00:00:00-05:00  596.849976  598.010010  590.520020  594.789978   \n",
      "\n",
      "                              Volume  Dividends  Stock Splits  Capital Gains  \n",
      "Date                                                                          \n",
      "2015-02-27 00:00:00-05:00  108076000        0.0           0.0            0.0  \n",
      "2015-03-02 00:00:00-05:00   87491400        0.0           0.0            0.0  \n",
      "2015-03-03 00:00:00-05:00  110325800        0.0           0.0            0.0  \n",
      "2015-03-04 00:00:00-05:00  114497200        0.0           0.0            0.0  \n",
      "2015-03-05 00:00:00-05:00   76873000        0.0           0.0            0.0  \n",
      "...                              ...        ...           ...            ...  \n",
      "2025-02-21 00:00:00-05:00   76519800        0.0           0.0            0.0  \n",
      "2025-02-24 00:00:00-05:00   50737200        0.0           0.0            0.0  \n",
      "2025-02-25 00:00:00-05:00   58266500        0.0           0.0            0.0  \n",
      "2025-02-26 00:00:00-05:00   43173300        0.0           0.0            0.0  \n",
      "2025-02-27 00:00:00-05:00   28350632        0.0           0.0            0.0  \n",
      "\n",
      "[2516 rows x 8 columns]\n"
     ]
    }
   ],
   "source": [
    "ticker_symbol = 'SPY'\n",
    "\n",
    "SPY_data = yf.Ticker(ticker_symbol)\n",
    "\n",
    "SPY_historical_data = SPY_data.history(period='10y')\n",
    "print(\"Historical Stock Prices for SPY:\")\n",
    "print(SPY_historical_data)\n",
    "\n",
    "SPY_historical_data.to_csv('BND_historical_data.csv')\n"
   ]
  },
  {
   "cell_type": "markdown",
   "metadata": {},
   "source": [
    "# Basic Statistics and Data Types"
   ]
  },
  {
   "cell_type": "code",
   "execution_count": 55,
   "metadata": {},
   "outputs": [
    {
     "name": "stdout",
     "output_type": "stream",
     "text": [
      "<class 'pandas.core.frame.DataFrame'>\n",
      "DatetimeIndex: 2516 entries, 2015-02-27 00:00:00-05:00 to 2025-02-27 00:00:00-05:00\n",
      "Data columns (total 8 columns):\n",
      " #   Column         Non-Null Count  Dtype  \n",
      "---  ------         --------------  -----  \n",
      " 0   Open           2516 non-null   float64\n",
      " 1   High           2516 non-null   float64\n",
      " 2   Low            2516 non-null   float64\n",
      " 3   Close          2516 non-null   float64\n",
      " 4   Volume         2516 non-null   int64  \n",
      " 5   Dividends      2516 non-null   float64\n",
      " 6   Stock Splits   2516 non-null   float64\n",
      " 7   Capital Gains  2516 non-null   float64\n",
      "dtypes: float64(7), int64(1)\n",
      "memory usage: 176.9 KB\n",
      "None\n",
      "Open             0\n",
      "High             0\n",
      "Low              0\n",
      "Close            0\n",
      "Volume           0\n",
      "Dividends        0\n",
      "Stock Splits     0\n",
      "Capital Gains    0\n",
      "dtype: int64\n",
      "              Open         High          Low        Close        Volume  \\\n",
      "count  2516.000000  2516.000000  2516.000000  2516.000000  2.516000e+03   \n",
      "mean    320.362186   322.084585   318.474195   320.405366  8.614587e+07   \n",
      "std     119.600355   120.160054   118.937348   119.600403  4.458609e+07   \n",
      "min     156.354943   157.864136   154.676956   156.800842  2.027000e+07   \n",
      "25%     218.577030   218.804667   217.620055   218.333900  5.801250e+07   \n",
      "50%     284.867644   287.424636   283.419177   285.587250  7.580600e+07   \n",
      "75%     410.225554   412.722407   407.344352   410.622246  1.001097e+08   \n",
      "max     611.539978   613.229980   609.559998   612.929993  5.072443e+08   \n",
      "\n",
      "         Dividends  Stock Splits  Capital Gains  \n",
      "count  2516.000000        2516.0         2516.0  \n",
      "mean      0.022135           0.0            0.0  \n",
      "std       0.177059           0.0            0.0  \n",
      "min       0.000000           0.0            0.0  \n",
      "25%       0.000000           0.0            0.0  \n",
      "50%       0.000000           0.0            0.0  \n",
      "75%       0.000000           0.0            0.0  \n",
      "max       1.966000           0.0            0.0  \n"
     ]
    }
   ],
   "source": [
    "print(SPY_historical_data.info())\n",
    "print(SPY_historical_data.isnull().sum())\n",
    "print(SPY_historical_data.describe())\n"
   ]
  }
 ],
 "metadata": {
  "kernelspec": {
   "display_name": "base",
   "language": "python",
   "name": "python3"
  },
  "language_info": {
   "codemirror_mode": {
    "name": "ipython",
    "version": 3
   },
   "file_extension": ".py",
   "mimetype": "text/x-python",
   "name": "python",
   "nbconvert_exporter": "python",
   "pygments_lexer": "ipython3",
   "version": "3.12.7"
  }
 },
 "nbformat": 4,
 "nbformat_minor": 2
}
